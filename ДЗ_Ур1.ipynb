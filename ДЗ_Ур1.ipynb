{
  "nbformat": 4,
  "nbformat_minor": 5,
  "metadata": {
    "language_info": {
      "name": "python",
      "version": "3.7.8",
      "mimetype": "text/x-python",
      "codemirror_mode": {
        "name": "ipython",
        "version": 3
      },
      "pygments_lexer": "ipython3",
      "nbconvert_exporter": "python",
      "file_extension": ".py"
    },
    "kernelspec": {
      "name": "python3",
      "display_name": "Python 3",
      "language": "python"
    },
    "colab": {
      "name": "ДЗ Ур1.ipynb",
      "provenance": [],
      "collapsed_sections": [],
      "include_colab_link": true
    }
  },
  "cells": [
    {
      "cell_type": "markdown",
      "metadata": {
        "id": "view-in-github",
        "colab_type": "text"
      },
      "source": [
        "<a href=\"https://colab.research.google.com/github/Alex-malov/Home-Work/blob/HW/%D0%94%D0%97_%D0%A3%D1%801.ipynb\" target=\"_parent\"><img src=\"https://colab.research.google.com/assets/colab-badge.svg\" alt=\"Open In Colab\"/></a>"
      ]
    },
    {
      "cell_type": "markdown",
      "metadata": {
        "id": "NlqLROkVhYXH"
      },
      "source": [
        "1. Из колоды в 52 карты извлекаются случайным образом 4 карты. a) Найти вероятность того, что все карты – крести. б) Найти вероятность, что среди 4-х карт окажется хотя бы один туз."
      ],
      "id": "NlqLROkVhYXH"
    },
    {
      "cell_type": "code",
      "metadata": {
        "trusted": true,
        "id": "hKznXDe3hYXK",
        "outputId": "398a7481-d008-4775-991e-2b87c72f7458"
      },
      "source": [
        "#вероятность того, что все карты – крести\n",
        "W = (13 / 52) * (12 / 51) * (11 / 50) * (10 / 49)\n",
        "W"
      ],
      "id": "hKznXDe3hYXK",
      "execution_count": null,
      "outputs": [
        {
          "output_type": "execute_result",
          "data": {
            "text/plain": [
              "0.0026410564225690276"
            ]
          },
          "metadata": {
            "tags": []
          },
          "execution_count": 5
        }
      ]
    },
    {
      "cell_type": "code",
      "metadata": {
        "colab": {
          "base_uri": "https://localhost:8080/"
        },
        "id": "5RFvg-Otkqgd",
        "outputId": "6dfc15a3-a8c1-4514-9b0a-02a5c40e32ab"
      },
      "source": [
        "# вероятность, что среди 4-х карт окажется хотя бы один туз.\n",
        "# комбинации\n",
        "from math import factorial\n",
        "def combinations(n, k):\n",
        "    return int(factorial(n) / (factorial(k) * factorial(n - k)))\n",
        "\n",
        "k1 = combinations(52, 4)\n",
        "k2 = combinations(48, 4)\n",
        "print(k1)\n",
        "print(k2)\n",
        "\n"
      ],
      "id": "5RFvg-Otkqgd",
      "execution_count": null,
      "outputs": [
        {
          "output_type": "stream",
          "text": [
            "270725\n",
            "194580\n"
          ],
          "name": "stdout"
        }
      ]
    },
    {
      "cell_type": "code",
      "metadata": {
        "colab": {
          "base_uri": "https://localhost:8080/"
        },
        "id": "aazpRvHqizqK",
        "outputId": "6a832204-e8ba-42ee-d372-0fe915bf3c35"
      },
      "source": [
        "# вероятность\n",
        "W1 = (k1-k2)/k1\n",
        "W1"
      ],
      "id": "aazpRvHqizqK",
      "execution_count": null,
      "outputs": [
        {
          "output_type": "execute_result",
          "data": {
            "text/plain": [
              "0.2812632745405855"
            ]
          },
          "metadata": {
            "tags": []
          },
          "execution_count": 21
        }
      ]
    },
    {
      "cell_type": "markdown",
      "metadata": {
        "id": "2I34f6_AhYXN"
      },
      "source": [
        "2. На входной двери подъезда установлен кодовый замок, содержащий десять кнопок с цифрами от 0 до 9. Код содержит три цифры, которые нужно нажать одновременно. Какова вероятность того, что человек, не знающий код, откроет дверь с первой попытки?"
      ],
      "id": "2I34f6_AhYXN"
    },
    {
      "cell_type": "code",
      "metadata": {
        "trusted": true,
        "colab": {
          "base_uri": "https://localhost:8080/"
        },
        "id": "cOdqcI_qhYXO",
        "outputId": "4c60d61b-acf6-47fa-b9f3-4881e22c70d2"
      },
      "source": [
        "# вероятность\n",
        "W2 = (3 / 10) * (2 / 9) * (1 / 8)\n",
        "W2"
      ],
      "id": "cOdqcI_qhYXO",
      "execution_count": 1,
      "outputs": [
        {
          "output_type": "execute_result",
          "data": {
            "text/plain": [
              "0.008333333333333333"
            ]
          },
          "metadata": {
            "tags": []
          },
          "execution_count": 1
        }
      ]
    },
    {
      "cell_type": "markdown",
      "metadata": {
        "id": "muQHBa-ChYXO"
      },
      "source": [
        "3. В ящике имеется 15 деталей, из которых 9 окрашены. Рабочий случайным образом извлекает 3 детали. Какова вероятность того, что все извлеченные детали окрашены?"
      ],
      "id": "muQHBa-ChYXO"
    },
    {
      "cell_type": "code",
      "metadata": {
        "trusted": true,
        "id": "HBcSRQ7QhYXO",
        "outputId": "05c7aa7e-ab67-4319-bcb0-96f3c5c10e5d"
      },
      "source": [
        "W3 = (9/15) * (8/14) * (7/13)\n",
        "W3"
      ],
      "id": "HBcSRQ7QhYXO",
      "execution_count": null,
      "outputs": [
        {
          "output_type": "execute_result",
          "data": {
            "text/plain": [
              "0.18461538461538457"
            ]
          },
          "metadata": {
            "tags": []
          },
          "execution_count": 15
        }
      ]
    },
    {
      "cell_type": "markdown",
      "metadata": {
        "id": "YwYqR1e1hYXP"
      },
      "source": [
        "4. В лотерее 100 билетов. Из них 2 выигрышных. Какова вероятность того, что 2 приобретенных билета окажутся выигрышными?"
      ],
      "id": "YwYqR1e1hYXP"
    },
    {
      "cell_type": "code",
      "metadata": {
        "trusted": true,
        "id": "y4JhWjEnhYXQ",
        "colab": {
          "base_uri": "https://localhost:8080/"
        },
        "outputId": "9ba55027-eba0-4908-f891-8fa564376e70"
      },
      "source": [
        "W4 = (2/100) * (1/99)\n",
        "W4"
      ],
      "id": "y4JhWjEnhYXQ",
      "execution_count": 2,
      "outputs": [
        {
          "output_type": "execute_result",
          "data": {
            "text/plain": [
              "0.00020202020202020205"
            ]
          },
          "metadata": {
            "tags": []
          },
          "execution_count": 2
        }
      ]
    },
    {
      "cell_type": "markdown",
      "metadata": {
        "id": "OGBMWgM9hYXQ"
      },
      "source": [
        "5. На соревновании по биатлону один из трех спортсменов стреляет и попадает в мишень. Вероятность попадания для первого спортсмена равна 0.9, для второго — 0.8, для третьего — 0.6. Найти вероятность того, что выстрел произведен: a). первым спортсменом б). вторым спортсменом в). третьим спортсменом."
      ],
      "id": "OGBMWgM9hYXQ"
    },
    {
      "cell_type": "code",
      "metadata": {
        "trusted": true,
        "id": "dkwhP-zihYXQ",
        "outputId": "f4978b47-6d2a-47cb-bed3-fc51205930e8"
      },
      "source": [
        "W5 = (1/3) * 0.9 / ((1/3) * 0.9 + (1/3) * 0.8 + (1/3) * 0.6)\n",
        "W5"
      ],
      "id": "dkwhP-zihYXQ",
      "execution_count": null,
      "outputs": [
        {
          "output_type": "execute_result",
          "data": {
            "text/plain": [
              "0.391304347826087"
            ]
          },
          "metadata": {
            "tags": []
          },
          "execution_count": 19
        }
      ]
    },
    {
      "cell_type": "code",
      "metadata": {
        "trusted": true,
        "id": "VcHGIhXyhYXR",
        "outputId": "0ccd93e7-0cb1-4c2a-a09c-6d8f082d8e59"
      },
      "source": [
        "W6 = (1/3) * 0.8 / ((1/3) * 0.9 + (1/3) * 0.8 + (1/3) * 0.6)\n",
        "W6"
      ],
      "id": "VcHGIhXyhYXR",
      "execution_count": null,
      "outputs": [
        {
          "output_type": "execute_result",
          "data": {
            "text/plain": [
              "0.3478260869565218"
            ]
          },
          "metadata": {
            "tags": []
          },
          "execution_count": 21
        }
      ]
    },
    {
      "cell_type": "code",
      "metadata": {
        "trusted": true,
        "id": "tY_yEXMDhYXR",
        "outputId": "3cb23201-3edb-4369-f149-d8d9c4394da9"
      },
      "source": [
        "W5 = (1/3) * 0.6 / ((1/3) * 0.9 + (1/3) * 0.8 + (1/3) * 0.6)\n",
        "W5"
      ],
      "id": "tY_yEXMDhYXR",
      "execution_count": null,
      "outputs": [
        {
          "output_type": "execute_result",
          "data": {
            "text/plain": [
              "0.2608695652173913"
            ]
          },
          "metadata": {
            "tags": []
          },
          "execution_count": 22
        }
      ]
    },
    {
      "cell_type": "code",
      "metadata": {
        "id": "8kHXNMh2hYXS"
      },
      "source": [
        ""
      ],
      "id": "8kHXNMh2hYXS",
      "execution_count": null,
      "outputs": []
    }
  ]
}
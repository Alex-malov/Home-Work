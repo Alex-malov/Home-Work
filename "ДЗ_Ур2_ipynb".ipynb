{
  "nbformat": 4,
  "nbformat_minor": 5,
  "metadata": {
    "language_info": {
      "name": "python",
      "version": "3.7.8",
      "mimetype": "text/x-python",
      "codemirror_mode": {
        "name": "ipython",
        "version": 3
      },
      "pygments_lexer": "ipython3",
      "nbconvert_exporter": "python",
      "file_extension": ".py"
    },
    "kernelspec": {
      "name": "python3",
      "display_name": "Python 3",
      "language": "python"
    },
    "colab": {
      "name": "\"ДЗ Ур2.ipynb\"",
      "provenance": [],
      "collapsed_sections": [],
      "include_colab_link": true
    }
  },
  "cells": [
    {
      "cell_type": "markdown",
      "metadata": {
        "id": "view-in-github",
        "colab_type": "text"
      },
      "source": [
        "<a href=\"https://colab.research.google.com/github/Alex-malov/Home-Work/blob/HW/%22%D0%94%D0%97_%D0%A3%D1%802_ipynb%22.ipynb\" target=\"_parent\"><img src=\"https://colab.research.google.com/assets/colab-badge.svg\" alt=\"Open In Colab\"/></a>"
      ]
    },
    {
      "cell_type": "markdown",
      "metadata": {
        "id": "NlqLROkVhYXH"
      },
      "source": [
        "1. Вероятность того, что стрелок попадет в мишень, выстрелив один раз, равна 0.8. Стрелок выстрелил 100 раз. Найдите вероятность того, что стрелок попадет в цель ровно 85 раз."
      ],
      "id": "NlqLROkVhYXH"
    },
    {
      "cell_type": "code",
      "metadata": {
        "colab": {
          "base_uri": "https://localhost:8080/"
        },
        "id": "Eo8i8_vmSWDB",
        "outputId": "72b2a272-c87a-42c4-d4e1-031eebf2819f"
      },
      "source": [
        "from math import factorial\n",
        "def combinations(n, k):\n",
        "    return int(factorial(n) / (factorial(k) * factorial(n - k)))\n",
        "\n",
        "# число комбинаций\n",
        "C1 = combinations(100, 85)\n",
        "\n",
        "# вероятность попаданий 85 раз\n",
        "P= C1*(0.8)**85*(0.2)**(100-85)\n",
        "print(f\"вероятность попаданий 85 раз={P}\")\n"
      ],
      "id": "Eo8i8_vmSWDB",
      "execution_count": 17,
      "outputs": [
        {
          "output_type": "stream",
          "text": [
            "вероятность попаданий 85 раз=0.048061793700746556\n"
          ],
          "name": "stdout"
        }
      ]
    },
    {
      "cell_type": "markdown",
      "metadata": {
        "id": "T-AdO81uSWd2"
      },
      "source": [
        "2. Вероятность того, что лампочка перегорит в течение первого дня эксплуатации, равна 0.0004. В жилом комплексе после ремонта в один день включили 5000 новых лампочек. Какова вероятность, что ни одна из них не перегорит в первый день? Какова вероятность, что перегорят ровно две?"
      ],
      "id": "T-AdO81uSWd2"
    },
    {
      "cell_type": "code",
      "metadata": {
        "colab": {
          "base_uri": "https://localhost:8080/"
        },
        "id": "dGnaC-n2ZhUX",
        "outputId": "e86c26b9-8790-4234-ec80-e59056c2fe96"
      },
      "source": [
        "# вероятность, что ни одна из них не перегорит в первый день\n",
        "P= (1-0.0004)**5000\n",
        "print(f\"вероятность, что ни одна из них не перегорит в первый день={P}\")"
      ],
      "id": "dGnaC-n2ZhUX",
      "execution_count": 26,
      "outputs": [
        {
          "output_type": "stream",
          "text": [
            "вероятность, что ни одна из них не перегорит в первый день=0.13528114551440706\n"
          ],
          "name": "stdout"
        }
      ]
    },
    {
      "cell_type": "code",
      "metadata": {
        "colab": {
          "base_uri": "https://localhost:8080/"
        },
        "id": "h4Ui_wxYSZU4",
        "outputId": "7c31654b-ca56-45a7-fa69-cfe9f99c8742"
      },
      "source": [
        "def combinations(n, k):\n",
        "    return int(factorial(n) / (factorial(k) * factorial(n - k)))\n",
        "\n",
        "# число комбинаций\n",
        "C1 = combinations(5000, 2)\n",
        "\n",
        "# вероятность, что перегорят ровно две\n",
        "P= C1*(0.0004)**2*(1-0.0004)**(5000-2)\n",
        "print(f\"вероятность, что перегорят ровно две={P}\")"
      ],
      "id": "h4Ui_wxYSZU4",
      "execution_count": 23,
      "outputs": [
        {
          "output_type": "stream",
          "text": [
            "вероятность, что перегорят ровно две=0.2707247150266753\n"
          ],
          "name": "stdout"
        }
      ]
    },
    {
      "cell_type": "markdown",
      "metadata": {
        "id": "dW0fr2m2SZzf"
      },
      "source": [
        "3. Монету подбросили 144 раза. Какова вероятность, что орел выпадет ровно 70 раз?"
      ],
      "id": "dW0fr2m2SZzf"
    },
    {
      "cell_type": "code",
      "metadata": {
        "colab": {
          "base_uri": "https://localhost:8080/"
        },
        "id": "u6m8BAxHScJY",
        "outputId": "ccd5f981-d78b-438c-edbd-3d780bcdefd4"
      },
      "source": [
        "def combinations(n, k):\n",
        "    return int(factorial(n) / (factorial(k) * factorial(n - k)))\n",
        "\n",
        "# число комбинаций\n",
        "C1 = combinations(144, 70)\n",
        "\n",
        "# вероятность, что орел выпадет ровно 70 раз\n",
        "P= C1*(0.5)**70*(0.5)**(144-70)\n",
        "print(f\"вероятность, что орел выпадет ровно 70 раз={P}\")"
      ],
      "id": "u6m8BAxHScJY",
      "execution_count": 28,
      "outputs": [
        {
          "output_type": "stream",
          "text": [
            "вероятность, что орел выпадет ровно 70 раз=0.06281178035144776\n"
          ],
          "name": "stdout"
        }
      ]
    },
    {
      "cell_type": "markdown",
      "metadata": {
        "id": "jJ4uYre2ScjY"
      },
      "source": [
        "4. В первом ящике находится 10 мячей, из которых 7 - белые. Во втором ящике - 11 мячей, из которых 9 белых. Из каждого ящика вытаскивают случайным образом по два мяча. Какова вероятность того, что все мячи белые? Какова вероятность того, что ровно два мяча белые? Какова вероятность того, что хотя бы один мяч белый?"
      ],
      "id": "jJ4uYre2ScjY"
    },
    {
      "cell_type": "code",
      "metadata": {
        "colab": {
          "base_uri": "https://localhost:8080/"
        },
        "id": "-c3mZ290Sebf",
        "outputId": "2dce07b6-d923-4416-ca56-c65519fdfff0"
      },
      "source": [
        "#вероятность того, что все мячи белые\n",
        "W = (7/10) * (6/9) * (9/11) * (8/10)\n",
        "W"
      ],
      "id": "-c3mZ290Sebf",
      "execution_count": 29,
      "outputs": [
        {
          "output_type": "execute_result",
          "data": {
            "text/plain": [
              "0.3054545454545454"
            ]
          },
          "metadata": {
            "tags": []
          },
          "execution_count": 29
        }
      ]
    },
    {
      "cell_type": "code",
      "metadata": {
        "colab": {
          "base_uri": "https://localhost:8080/"
        },
        "id": "8ci2gaaPaelG",
        "outputId": "ce43f9f4-0c4a-47cd-e920-f5ce48ebe63e"
      },
      "source": [
        "#вероятность того, что ровно два мяча белые\n",
        "W1 = (7/10) * (6/9) * (1-9/11) * (1-8/10)\n",
        "W2 = ((7/10)*(1-6/9) + (1-7/10)*(6/9))*((9/11)*(1-8/10) + (1-9/11)*(8/10))\n",
        "W = W1 + W2\n",
        "W"
      ],
      "id": "8ci2gaaPaelG",
      "execution_count": 32,
      "outputs": [
        {
          "output_type": "execute_result",
          "data": {
            "text/plain": [
              "0.15090909090909088"
            ]
          },
          "metadata": {
            "tags": []
          },
          "execution_count": 32
        }
      ]
    },
    {
      "cell_type": "code",
      "metadata": {
        "colab": {
          "base_uri": "https://localhost:8080/"
        },
        "id": "t81RdFfxaeoi",
        "outputId": "15fee2e6-35ca-42f0-ffa0-0278ab41c8e8"
      },
      "source": [
        "#вероятность того, что хотя бы один мяч белый\n",
        "from math import factorial\n",
        "def combinations(n, k):\n",
        "    return int(factorial(n) / (factorial(k) * factorial(n - k)))\n",
        "\n",
        "k11 = combinations(10, 2)\n",
        "k12 = combinations(3, 2)\n",
        "k21 = combinations(11, 2)\n",
        "k22 = combinations(2, 2)\n",
        "\n",
        "print(k11)\n",
        "print(k12)\n",
        "print(k21)\n",
        "print(k22)"
      ],
      "id": "t81RdFfxaeoi",
      "execution_count": 33,
      "outputs": [
        {
          "output_type": "stream",
          "text": [
            "45\n",
            "3\n",
            "55\n",
            "1\n"
          ],
          "name": "stdout"
        }
      ]
    },
    {
      "cell_type": "code",
      "metadata": {
        "colab": {
          "base_uri": "https://localhost:8080/"
        },
        "id": "23TsGPZle2vk",
        "outputId": "65414b97-c885-4380-b418-532249166662"
      },
      "source": [
        "W1 = (k11-k12)/k11 * (k21-k22)/k21\n",
        "print (f\"вероятность, что хотя бы один мяч белый = {W1}\")"
      ],
      "id": "23TsGPZle2vk",
      "execution_count": 36,
      "outputs": [
        {
          "output_type": "stream",
          "text": [
            "вероятность, что хотя бы один мяч белый = 0.9163636363636364\n"
          ],
          "name": "stdout"
        }
      ]
    },
    {
      "cell_type": "code",
      "metadata": {
        "id": "iBq4D6eTe_vD"
      },
      "source": [
        ""
      ],
      "id": "iBq4D6eTe_vD",
      "execution_count": null,
      "outputs": []
    }
  ]
}
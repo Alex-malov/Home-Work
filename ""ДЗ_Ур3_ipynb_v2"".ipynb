{
  "nbformat": 4,
  "nbformat_minor": 5,
  "metadata": {
    "language_info": {
      "name": "python",
      "version": "3.7.8",
      "mimetype": "text/x-python",
      "codemirror_mode": {
        "name": "ipython",
        "version": 3
      },
      "pygments_lexer": "ipython3",
      "nbconvert_exporter": "python",
      "file_extension": ".py"
    },
    "kernelspec": {
      "name": "python3",
      "display_name": "Python 3",
      "language": "python"
    },
    "colab": {
      "name": "\"\"ДЗ Ур3.ipynb\"\"",
      "provenance": [],
      "collapsed_sections": [],
      "include_colab_link": true
    }
  },
  "cells": [
    {
      "cell_type": "markdown",
      "metadata": {
        "id": "view-in-github",
        "colab_type": "text"
      },
      "source": [
        "<a href=\"https://colab.research.google.com/github/Alex-malov/Home-Work/blob/HW/%22%22%D0%94%D0%97_%D0%A3%D1%803_ipynb_v2%22%22.ipynb\" target=\"_parent\"><img src=\"https://colab.research.google.com/assets/colab-badge.svg\" alt=\"Open In Colab\"/></a>"
      ]
    },
    {
      "cell_type": "markdown",
      "metadata": {
        "id": "rzArpGdOShpA"
      },
      "source": [
        "1. Даны значения зарплат из выборки выпускников: 100, 80, 75, 77, 89, 33, 45, 25, 65, 17, 30, 24, 57, 55, 70, 75, 65, 84, 90, 150. Посчитать (желательно без использования статистических методов наподобие std, var, mean) среднее арифметическое, среднее квадратичное отклонение, смещенную и несмещенную оценки дисперсий для данной выборки."
      ],
      "id": "rzArpGdOShpA"
    },
    {
      "cell_type": "code",
      "metadata": {
        "id": "I6uRFCeSTi9G"
      },
      "source": [
        "import numpy as np\n",
        "import pandas as pd\n",
        "import matplotlib.pyplot as plt\n",
        "import warnings\n",
        "warnings.filterwarnings('ignore')"
      ],
      "id": "I6uRFCeSTi9G",
      "execution_count": 10,
      "outputs": []
    },
    {
      "cell_type": "code",
      "metadata": {
        "colab": {
          "base_uri": "https://localhost:8080/"
        },
        "id": "0BfnyQbfTkTw",
        "outputId": "61c8a247-04c2-4a71-eb7c-11f3b30332f0"
      },
      "source": [
        "# среднее арифметическое\n",
        "x = np.array([100, 80, 75, 77, 89, 33, 45, 25, 65, 17, 30, 24, 57, 55, 70, 75, 65, 84, 90, 150])\n",
        "mean = sum(x)/len(x)\n",
        "mean"
      ],
      "id": "0BfnyQbfTkTw",
      "execution_count": 11,
      "outputs": [
        {
          "output_type": "execute_result",
          "data": {
            "text/plain": [
              "65.3"
            ]
          },
          "metadata": {},
          "execution_count": 11
        }
      ]
    },
    {
      "cell_type": "code",
      "metadata": {
        "colab": {
          "base_uri": "https://localhost:8080/"
        },
        "id": "m9s2JYSPXZ-1",
        "outputId": "47bf62d3-1e93-4819-d591-20a1a9ebbfef"
      },
      "source": [
        "# среднее квадратичное отклонение\n",
        "std = np.sqrt(((x - mean)**2).sum() / len(x))\n",
        "std"
      ],
      "id": "m9s2JYSPXZ-1",
      "execution_count": 12,
      "outputs": [
        {
          "output_type": "execute_result",
          "data": {
            "text/plain": [
              "30.823854398825596"
            ]
          },
          "metadata": {},
          "execution_count": 12
        }
      ]
    },
    {
      "cell_type": "code",
      "metadata": {
        "colab": {
          "base_uri": "https://localhost:8080/"
        },
        "id": "y1D_JH4nae4D",
        "outputId": "0533e4a7-71ff-486d-a79d-3e6666a4c0e4"
      },
      "source": [
        "# смещенную оценки дисперсий\n",
        "variance = ((x - mean)**2).sum() / len(x)\n",
        "variance"
      ],
      "id": "y1D_JH4nae4D",
      "execution_count": 13,
      "outputs": [
        {
          "output_type": "execute_result",
          "data": {
            "text/plain": [
              "950.11"
            ]
          },
          "metadata": {},
          "execution_count": 13
        }
      ]
    },
    {
      "cell_type": "code",
      "metadata": {
        "colab": {
          "base_uri": "https://localhost:8080/"
        },
        "id": "O48eFqjGbUb_",
        "outputId": "094328fd-8e30-4439-ec32-fb7d863ed343"
      },
      "source": [
        "# несмещенную оценки дисперсий\n",
        "variance2 = ((x - mean)**2).sum() / (len(x) -1)\n",
        "variance2"
      ],
      "id": "O48eFqjGbUb_",
      "execution_count": 14,
      "outputs": [
        {
          "output_type": "execute_result",
          "data": {
            "text/plain": [
              "1000.1157894736842"
            ]
          },
          "metadata": {},
          "execution_count": 14
        }
      ]
    },
    {
      "cell_type": "markdown",
      "metadata": {
        "id": "7mA-fVc4S0Sy"
      },
      "source": [
        "2. В первом ящике находится 8 мячей, из которых 5 - белые. Во втором ящике - 12 мячей, из которых 5 белых. Из первого ящика вытаскивают случайным образом два мяча, из второго - 4. Какова вероятность того, что 3 мяча белые?"
      ],
      "id": "7mA-fVc4S0Sy"
    },
    {
      "cell_type": "code",
      "metadata": {
        "colab": {
          "base_uri": "https://localhost:8080/"
        },
        "id": "efDncnZDcI4t",
        "outputId": "1e534e76-e355-43ea-e34d-2c8ad9f71a5c"
      },
      "source": [
        "from math import factorial\n",
        "def combinations(n, k):\n",
        "    return int(factorial(n) / (factorial(k) * factorial(n - k)))\n",
        "w1 = ((combinations(5, 2)*combinations(3, 0)) / combinations(8, 2)) * ((combinations(7, 3)*combinations(5, 1)) / combinations(12, 4))\n",
        "w2 = ((combinations(3, 2)*combinations(5, 0)) / combinations(8, 2)) * ((combinations(5, 3)*combinations(7, 1)) / combinations(12, 4))\n",
        "w3 = ((combinations(5, 1)*combinations(3, 1)) / combinations(8, 2)) * ((combinations(7, 2)*combinations(5, 2)) / combinations(12, 4))\n",
        "w = w1+w2+w3\n",
        "w"
      ],
      "id": "efDncnZDcI4t",
      "execution_count": 15,
      "outputs": [
        {
          "output_type": "execute_result",
          "data": {
            "text/plain": [
              "0.3686868686868687"
            ]
          },
          "metadata": {},
          "execution_count": 15
        }
      ]
    },
    {
      "cell_type": "markdown",
      "metadata": {
        "id": "SGstepMWSxL6"
      },
      "source": [
        "3. На соревновании по биатлону один из трех спортсменов стреляет и попадает в мишень. Вероятность попадания для первого спортсмена равна 0.9, для второго — 0.8, для третьего — 0.6. Найти вероятность того, что выстрел произведен: a). первым спортсменом б). вторым спортсменом в). третьим спортсменом."
      ],
      "id": "SGstepMWSxL6"
    },
    {
      "cell_type": "code",
      "metadata": {
        "colab": {
          "base_uri": "https://localhost:8080/"
        },
        "id": "Nbup1NILSzH7",
        "outputId": "142366fb-cd32-42ae-9cf9-f84807675c28"
      },
      "source": [
        "# вероятность того, что выстрел произведен: a). первым спортсменом\n",
        "W4 = (1/3) * 0.9 / ((1/3) * 0.9 + (1/3) * 0.8 + (1/3) * 0.6)\n",
        "W4"
      ],
      "id": "Nbup1NILSzH7",
      "execution_count": 16,
      "outputs": [
        {
          "output_type": "execute_result",
          "data": {
            "text/plain": [
              "0.391304347826087"
            ]
          },
          "metadata": {},
          "execution_count": 16
        }
      ]
    },
    {
      "cell_type": "code",
      "metadata": {
        "colab": {
          "base_uri": "https://localhost:8080/"
        },
        "id": "H3BpM6_ZfIQw",
        "outputId": "d6d4bd37-0205-4461-9ec4-30c4cd6ec599"
      },
      "source": [
        "# вероятность того, что выстрел произведен: a). вторым спортсменом\n",
        "W5 = (1/3) * 0.8 / ((1/3) * 0.9 + (1/3) * 0.8 + (1/3) * 0.6)\n",
        "W5"
      ],
      "id": "H3BpM6_ZfIQw",
      "execution_count": 17,
      "outputs": [
        {
          "output_type": "execute_result",
          "data": {
            "text/plain": [
              "0.3478260869565218"
            ]
          },
          "metadata": {},
          "execution_count": 17
        }
      ]
    },
    {
      "cell_type": "code",
      "metadata": {
        "colab": {
          "base_uri": "https://localhost:8080/"
        },
        "id": "43YxpLlNfIit",
        "outputId": "f1a9a4ef-8cf2-43c4-e466-164e6fc3dcd0"
      },
      "source": [
        "# вероятность того, что выстрел произведен: a). третьим спортсменом\n",
        "W6 = (1/3) * 0.6 / ((1/3) * 0.9 + (1/3) * 0.8 + (1/3) * 0.6)\n",
        "W6"
      ],
      "id": "43YxpLlNfIit",
      "execution_count": 18,
      "outputs": [
        {
          "output_type": "execute_result",
          "data": {
            "text/plain": [
              "0.2608695652173913"
            ]
          },
          "metadata": {},
          "execution_count": 18
        }
      ]
    },
    {
      "cell_type": "markdown",
      "metadata": {
        "id": "viMHVAxAS6ev"
      },
      "source": [
        "4. В университет на факультеты A и B поступило равное количество студентов, а на факультет C студентов поступило столько же, сколько на A и B вместе. Вероятность того, что студент факультета A сдаст первую сессию, равна 0.8. Для студента факультета B эта вероятность равна 0.7, а для студента факультета C - 0.9. Студент сдал первую сессию. Какова вероятность, что он учится: a). на факультете A б). на факультете B в). на факультете C?"
      ],
      "id": "viMHVAxAS6ev"
    },
    {
      "cell_type": "code",
      "metadata": {
        "colab": {
          "base_uri": "https://localhost:8080/"
        },
        "id": "fiaz8AIsS7Qq",
        "outputId": "d198417c-91b5-4bc1-c941-7c4f069368d9"
      },
      "source": [
        "# вероятность, что он учится: a). на факультете A\n",
        "W7 = (1/4) * 0.8 / ((1/4) * 0.8 + (1/4) * 0.7 + (2/4) * 0.9)\n",
        "W7"
      ],
      "id": "fiaz8AIsS7Qq",
      "execution_count": 19,
      "outputs": [
        {
          "output_type": "execute_result",
          "data": {
            "text/plain": [
              "0.24242424242424246"
            ]
          },
          "metadata": {},
          "execution_count": 19
        }
      ]
    },
    {
      "cell_type": "code",
      "metadata": {
        "colab": {
          "base_uri": "https://localhost:8080/"
        },
        "id": "SyhO4rjug5yy",
        "outputId": "5770ceeb-2845-4c5a-f42d-3f3b0bb1a51b"
      },
      "source": [
        "# вероятность, что он учится: a). на факультете B\n",
        "W8 = (1/4) * 0.7 / ((1/4) * 0.8 + (1/4) * 0.7 + (2/4) * 0.9)\n",
        "W8"
      ],
      "id": "SyhO4rjug5yy",
      "execution_count": 20,
      "outputs": [
        {
          "output_type": "execute_result",
          "data": {
            "text/plain": [
              "0.21212121212121213"
            ]
          },
          "metadata": {},
          "execution_count": 20
        }
      ]
    },
    {
      "cell_type": "code",
      "metadata": {
        "colab": {
          "base_uri": "https://localhost:8080/"
        },
        "id": "QpmbcNcxg531",
        "outputId": "4d725f69-9ece-43fe-ec19-9fd3f9bf1f65"
      },
      "source": [
        "# вероятность, что он учится: a). на факультете B\n",
        "W9 = (2/4) * 0.9 / ((1/4) * 0.8 + (1/4) * 0.7 + (2/4) * 0.9)\n",
        "W9"
      ],
      "id": "QpmbcNcxg531",
      "execution_count": 21,
      "outputs": [
        {
          "output_type": "execute_result",
          "data": {
            "text/plain": [
              "0.5454545454545455"
            ]
          },
          "metadata": {},
          "execution_count": 21
        }
      ]
    },
    {
      "cell_type": "markdown",
      "metadata": {
        "id": "wnnqpLowS7i5"
      },
      "source": [
        "5. Устройство состоит из трех деталей. Для первой детали вероятность выйти из строя в первый месяц равна 0.1, для второй - 0.2, для третьей - 0.25. Какова вероятность того, что в первый месяц выйдут из строя: а). все детали б). только две детали в). хотя бы одна деталь г). от одной до двух деталей?"
      ],
      "id": "wnnqpLowS7i5"
    },
    {
      "cell_type": "code",
      "metadata": {
        "colab": {
          "base_uri": "https://localhost:8080/"
        },
        "id": "L980yG8JS9ZK",
        "outputId": "8fd8416b-d577-4b85-a780-4c89e3d5a9f1"
      },
      "source": [
        "W10 = 0.1 * 0.2 * 0.25\n",
        "W10"
      ],
      "id": "L980yG8JS9ZK",
      "execution_count": 22,
      "outputs": [
        {
          "output_type": "execute_result",
          "data": {
            "text/plain": [
              "0.005000000000000001"
            ]
          },
          "metadata": {},
          "execution_count": 22
        }
      ]
    },
    {
      "cell_type": "code",
      "metadata": {
        "id": "xUSaSZk9idz-",
        "colab": {
          "base_uri": "https://localhost:8080/"
        },
        "outputId": "1e0c7ed2-97bd-4624-dff7-606995aba0cc"
      },
      "source": [
        "W11 = 0.1 * 0.2 * 0.75 + 0.1 * 0.25 * 0.8 + 0.2 * 0.25 * 0.9\n",
        "W11"
      ],
      "id": "xUSaSZk9idz-",
      "execution_count": 30,
      "outputs": [
        {
          "output_type": "execute_result",
          "data": {
            "text/plain": [
              "0.08000000000000002"
            ]
          },
          "metadata": {},
          "execution_count": 30
        }
      ]
    },
    {
      "cell_type": "code",
      "metadata": {
        "colab": {
          "base_uri": "https://localhost:8080/"
        },
        "id": "1vI0bxi_C7Fl",
        "outputId": "336d603e-d448-46a7-fe9f-a6cdaea67beb"
      },
      "source": [
        "W12 = 1-0.9*0.8*0.75\n",
        "W12"
      ],
      "id": "1vI0bxi_C7Fl",
      "execution_count": 31,
      "outputs": [
        {
          "output_type": "execute_result",
          "data": {
            "text/plain": [
              "0.45999999999999996"
            ]
          },
          "metadata": {},
          "execution_count": 31
        }
      ]
    },
    {
      "cell_type": "code",
      "metadata": {
        "colab": {
          "base_uri": "https://localhost:8080/"
        },
        "id": "fjrnBrWoDFkc",
        "outputId": "0978b244-048f-4184-b03c-b9a9e3754695"
      },
      "source": [
        "W13 = 1-0.9*0.8*0.75-0.1*0.2*0.25\n",
        "W13"
      ],
      "id": "fjrnBrWoDFkc",
      "execution_count": 33,
      "outputs": [
        {
          "output_type": "execute_result",
          "data": {
            "text/plain": [
              "0.45499999999999996"
            ]
          },
          "metadata": {},
          "execution_count": 33
        }
      ]
    },
    {
      "cell_type": "code",
      "metadata": {
        "id": "WkyQzVzyDYPD"
      },
      "source": [
        ""
      ],
      "id": "WkyQzVzyDYPD",
      "execution_count": null,
      "outputs": []
    }
  ]
}
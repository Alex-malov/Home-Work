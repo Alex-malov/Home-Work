{
  "nbformat": 4,
  "nbformat_minor": 5,
  "metadata": {
    "language_info": {
      "name": "python",
      "version": "3.7.8",
      "mimetype": "text/x-python",
      "codemirror_mode": {
        "name": "ipython",
        "version": 3
      },
      "pygments_lexer": "ipython3",
      "nbconvert_exporter": "python",
      "file_extension": ".py"
    },
    "kernelspec": {
      "name": "python3",
      "display_name": "Python 3",
      "language": "python"
    },
    "colab": {
      "name": "\"\"\"ДЗ Ур4.ipynb\"\"\"",
      "provenance": [],
      "collapsed_sections": [],
      "include_colab_link": true
    }
  },
  "cells": [
    {
      "cell_type": "markdown",
      "metadata": {
        "id": "view-in-github",
        "colab_type": "text"
      },
      "source": [
        "<a href=\"https://colab.research.google.com/github/Alex-malov/Home-Work/blob/HW/%22%22%22%D0%94%D0%97_%D0%A3%D1%804_ipynb%22%22%22.ipynb\" target=\"_parent\"><img src=\"https://colab.research.google.com/assets/colab-badge.svg\" alt=\"Open In Colab\"/></a>"
      ]
    },
    {
      "cell_type": "markdown",
      "metadata": {
        "id": "rzArpGdOShpA"
      },
      "source": [
        "1. Случайная непрерывная величина A имеет равномерное распределение на промежутке (200, 800].\n",
        "Найдите ее среднее значение и дисперсию."
      ],
      "id": "rzArpGdOShpA"
    },
    {
      "cell_type": "code",
      "metadata": {
        "id": "lsYCBII4cTlA"
      },
      "source": [
        "import pandas as pd\n",
        "import numpy as np"
      ],
      "id": "lsYCBII4cTlA",
      "execution_count": 1,
      "outputs": []
    },
    {
      "cell_type": "code",
      "metadata": {
        "colab": {
          "base_uri": "https://localhost:8080/"
        },
        "id": "VGCacMDQfAp0",
        "outputId": "16f53da5-a085-4830-d2de-b6f7079cdd34"
      },
      "source": [
        "# среднее значение 1\n",
        "x = 0\n",
        "y = 0\n",
        "for i in range(201, 801):\n",
        "               x += i\n",
        "               y += 1\n",
        "mean = x/y\n",
        "mean"
      ],
      "id": "VGCacMDQfAp0",
      "execution_count": 11,
      "outputs": [
        {
          "output_type": "execute_result",
          "data": {
            "text/plain": [
              "500.5"
            ]
          },
          "metadata": {
            "tags": []
          },
          "execution_count": 11
        }
      ]
    },
    {
      "cell_type": "code",
      "metadata": {
        "colab": {
          "base_uri": "https://localhost:8080/"
        },
        "id": "gEld5QmjikVp",
        "outputId": "14751834-b38e-4e29-e3b2-625f4a7c21b4"
      },
      "source": [
        "# среднее значение 2\n",
        "samples = []\n",
        "for i in range(201, 801):\n",
        "  samples.append(i)\n",
        "mean = sum(samples)/len(samples)\n",
        "mean"
      ],
      "id": "gEld5QmjikVp",
      "execution_count": 22,
      "outputs": [
        {
          "output_type": "execute_result",
          "data": {
            "text/plain": [
              "500.5"
            ]
          },
          "metadata": {
            "tags": []
          },
          "execution_count": 22
        }
      ]
    },
    {
      "cell_type": "code",
      "metadata": {
        "colab": {
          "base_uri": "https://localhost:8080/"
        },
        "id": "cwbB6OMphF7Y",
        "outputId": "fdeb023c-df26-4bef-a5dd-2072f8f86df5"
      },
      "source": [
        "# дисперсия\n",
        "samples = np.array([samples])\n",
        "variance = ((samples - mean)**2).sum() / len(samples)\n",
        "variance"
      ],
      "id": "cwbB6OMphF7Y",
      "execution_count": 24,
      "outputs": [
        {
          "output_type": "execute_result",
          "data": {
            "text/plain": [
              "17999950.0"
            ]
          },
          "metadata": {
            "tags": []
          },
          "execution_count": 24
        }
      ]
    },
    {
      "cell_type": "markdown",
      "metadata": {
        "id": "A2l8zD9NcUB4"
      },
      "source": [
        "2. О случайной непрерывной равномерно распределенной величине B известно, что ее дисперсия равна 0.2.\n",
        "Можно ли найти правую границу величины B и ее среднее значение зная, что левая граница равна 0.5?\n",
        "Если да, найдите ее."
      ],
      "id": "A2l8zD9NcUB4"
    },
    {
      "cell_type": "code",
      "metadata": {
        "colab": {
          "base_uri": "https://localhost:8080/"
        },
        "id": "LdTva3r5cVtX",
        "outputId": "42ab9b50-67bd-4e78-dd07-88921ff50f45"
      },
      "source": [
        "b = np.sqrt(0.2 * 12)+0.5\n",
        "b"
      ],
      "id": "LdTva3r5cVtX",
      "execution_count": 25,
      "outputs": [
        {
          "output_type": "execute_result",
          "data": {
            "text/plain": [
              "2.049193338482967"
            ]
          },
          "metadata": {
            "tags": []
          },
          "execution_count": 25
        }
      ]
    },
    {
      "cell_type": "markdown",
      "metadata": {
        "id": "7Byb1wo-cV_s"
      },
      "source": [
        "3. Непрерывная случайная величина X распределена нормально и задана плотностью распределения\n",
        "f(x) = (1 / (4 * sqrt(2*pi))) * (exp(-(x+2)**2) / 32).\n",
        "Найдите:\n",
        "а). M(X)\n",
        "б). D(X)\n",
        "в). std(X) (среднее квадратичное отклонение)"
      ],
      "id": "7Byb1wo-cV_s"
    },
    {
      "cell_type": "markdown",
      "metadata": {
        "id": "81XyaDpRlZR-"
      },
      "source": [
        "M(X) = -2;\n",
        "\n",
        "D(X) = 16;\n",
        "\n",
        "std(X) = 4."
      ],
      "id": "81XyaDpRlZR-"
    },
    {
      "cell_type": "markdown",
      "metadata": {
        "id": "9LJSiUKEcX3m"
      },
      "source": [
        "4. Рост взрослого населения города X имеет нормальное распределение.\n",
        "Причем, средний рост равен 174 см, а среднее квадратичное отклонение равно 8 см.\n",
        "Какова вероятность того, что случайным образом выбранный взрослый человек имеет рост:\n",
        "а). больше 182 см\n",
        "б). больше 190 см\n",
        "в). от 166 см до 190 см\n",
        "г). от 166 см до 182 см\n",
        "д). от 158 см до 190 см\n",
        "е). не выше 150 см или не ниже 190 см\n",
        "ё). не выше 150 см или не ниже 198 см\n",
        "ж). ниже 166 см."
      ],
      "id": "9LJSiUKEcX3m"
    },
    {
      "cell_type": "markdown",
      "metadata": {
        "id": "nJxfzLfnrkUA"
      },
      "source": [
        "а_std = (100% - 68%) / 2) = 16% , т.к. мы рассматриваем интервал [1std ; ...]\n",
        "\n",
        "б_std = (100% - 95.4%) / 2) = 4.6%\n",
        "\n",
        "в_std = 68% + (95.4% - 68%) / 2 = 81.7%\n",
        "\n",
        "г_std = 68%\n",
        "\n",
        "д_std = 95.4%\n",
        "\n",
        "е_std = 100% - 99.72% + (99.72% - 95.4%) / 2 = 2.44%\n",
        "\n",
        "ё_std = 100% - 99.72% = 0.28%\n",
        "\n",
        "ж_std = (100% - 68%) / 2) = 16%"
      ],
      "id": "nJxfzLfnrkUA"
    },
    {
      "cell_type": "markdown",
      "metadata": {
        "id": "OwoQ02cCcZ2s"
      },
      "source": [
        "5. На сколько сигм (средних квадратичных отклонений) отклоняется рост человека, равный 190 см, от\n",
        "математического ожидания роста в популяции, в которой M(X) = 178 см и D(X) = 25 кв.см?"
      ],
      "id": "OwoQ02cCcZ2s"
    },
    {
      "cell_type": "markdown",
      "metadata": {
        "id": "3UoLya3uwoAe"
      },
      "source": [
        "std = sqrt (D(X)) = 5\n",
        "\n",
        "delta = (190 - 178) / std = 2.4"
      ],
      "id": "3UoLya3uwoAe"
    },
    {
      "cell_type": "code",
      "metadata": {
        "id": "oY91BKxIw7f_"
      },
      "source": [
        ""
      ],
      "id": "oY91BKxIw7f_",
      "execution_count": null,
      "outputs": []
    }
  ]
}
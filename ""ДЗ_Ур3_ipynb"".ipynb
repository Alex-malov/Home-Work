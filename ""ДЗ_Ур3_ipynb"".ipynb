{
  "nbformat": 4,
  "nbformat_minor": 5,
  "metadata": {
    "language_info": {
      "name": "python",
      "version": "3.7.8",
      "mimetype": "text/x-python",
      "codemirror_mode": {
        "name": "ipython",
        "version": 3
      },
      "pygments_lexer": "ipython3",
      "nbconvert_exporter": "python",
      "file_extension": ".py"
    },
    "kernelspec": {
      "name": "python3",
      "display_name": "Python 3",
      "language": "python"
    },
    "colab": {
      "name": "\"\"ДЗ Ур3.ipynb\"\"",
      "provenance": [],
      "collapsed_sections": [],
      "include_colab_link": true
    }
  },
  "cells": [
    {
      "cell_type": "markdown",
      "metadata": {
        "id": "view-in-github",
        "colab_type": "text"
      },
      "source": [
        "<a href=\"https://colab.research.google.com/github/Alex-malov/Home-Work/blob/HW/%22%22%D0%94%D0%97_%D0%A3%D1%803_ipynb%22%22.ipynb\" target=\"_parent\"><img src=\"https://colab.research.google.com/assets/colab-badge.svg\" alt=\"Open In Colab\"/></a>"
      ]
    },
    {
      "cell_type": "markdown",
      "metadata": {
        "id": "rzArpGdOShpA"
      },
      "source": [
        "1. Даны значения зарплат из выборки выпускников: 100, 80, 75, 77, 89, 33, 45, 25, 65, 17, 30, 24, 57, 55, 70, 75, 65, 84, 90, 150. Посчитать (желательно без использования статистических методов наподобие std, var, mean) среднее арифметическое, среднее квадратичное отклонение, смещенную и несмещенную оценки дисперсий для данной выборки."
      ],
      "id": "rzArpGdOShpA"
    },
    {
      "cell_type": "code",
      "metadata": {
        "id": "I6uRFCeSTi9G"
      },
      "source": [
        "import numpy as np\n",
        "import pandas as pd\n",
        "import matplotlib.pyplot as plt\n",
        "import warnings\n",
        "warnings.filterwarnings('ignore')"
      ],
      "id": "I6uRFCeSTi9G",
      "execution_count": null,
      "outputs": []
    },
    {
      "cell_type": "code",
      "metadata": {
        "colab": {
          "base_uri": "https://localhost:8080/"
        },
        "id": "0BfnyQbfTkTw",
        "outputId": "ed589fd0-8f36-42d3-9165-1ca31ac56232"
      },
      "source": [
        "# среднее арифметическое\n",
        "x = np.array([100, 80, 75, 77, 89, 33, 45, 25, 65, 17, 30, 24, 57, 55, 70, 75, 65, 84, 90, 150])\n",
        "mean = sum(x)/len(x)\n",
        "mean"
      ],
      "id": "0BfnyQbfTkTw",
      "execution_count": null,
      "outputs": [
        {
          "output_type": "execute_result",
          "data": {
            "text/plain": [
              "65.3"
            ]
          },
          "metadata": {
            "tags": []
          },
          "execution_count": 3
        }
      ]
    },
    {
      "cell_type": "code",
      "metadata": {
        "colab": {
          "base_uri": "https://localhost:8080/"
        },
        "id": "m9s2JYSPXZ-1",
        "outputId": "37efbc3e-93ab-4615-92aa-2bf9697599e8"
      },
      "source": [
        "# среднее квадратичное отклонение\n",
        "std = np.sqrt(((x - mean)**2).sum() / len(x))\n",
        "std"
      ],
      "id": "m9s2JYSPXZ-1",
      "execution_count": null,
      "outputs": [
        {
          "output_type": "execute_result",
          "data": {
            "text/plain": [
              "30.823854398825596"
            ]
          },
          "metadata": {
            "tags": []
          },
          "execution_count": 4
        }
      ]
    },
    {
      "cell_type": "code",
      "metadata": {
        "colab": {
          "base_uri": "https://localhost:8080/"
        },
        "id": "y1D_JH4nae4D",
        "outputId": "e27d0f1d-ab62-474e-9098-f9f6118f7a34"
      },
      "source": [
        "# смещенную оценки дисперсий\n",
        "variance = ((x - mean)**2).sum() / len(x)\n",
        "variance"
      ],
      "id": "y1D_JH4nae4D",
      "execution_count": null,
      "outputs": [
        {
          "output_type": "execute_result",
          "data": {
            "text/plain": [
              "950.11"
            ]
          },
          "metadata": {
            "tags": []
          },
          "execution_count": 5
        }
      ]
    },
    {
      "cell_type": "code",
      "metadata": {
        "colab": {
          "base_uri": "https://localhost:8080/"
        },
        "id": "O48eFqjGbUb_",
        "outputId": "f4a1bc8d-cfdd-4662-e116-426bf848eec9"
      },
      "source": [
        "# несмещенную оценки дисперсий\n",
        "variance2 = ((x - mean)**2).sum() / (len(x) -1)\n",
        "variance2"
      ],
      "id": "O48eFqjGbUb_",
      "execution_count": null,
      "outputs": [
        {
          "output_type": "execute_result",
          "data": {
            "text/plain": [
              "1000.1157894736842"
            ]
          },
          "metadata": {
            "tags": []
          },
          "execution_count": 51
        }
      ]
    },
    {
      "cell_type": "markdown",
      "metadata": {
        "id": "7mA-fVc4S0Sy"
      },
      "source": [
        "2. В первом ящике находится 8 мячей, из которых 5 - белые. Во втором ящике - 12 мячей, из которых 5 белых. Из первого ящика вытаскивают случайным образом два мяча, из второго - 4. Какова вероятность того, что 3 мяча белые?"
      ],
      "id": "7mA-fVc4S0Sy"
    },
    {
      "cell_type": "code",
      "metadata": {
        "colab": {
          "base_uri": "https://localhost:8080/"
        },
        "id": "efDncnZDcI4t",
        "outputId": "6c29ef10-5bd9-461a-e96b-436f34201eb5"
      },
      "source": [
        "from math import factorial\n",
        "def combinations(n, k):\n",
        "    return int(factorial(n) / (factorial(k) * factorial(n - k)))\n",
        "w1 = combinations(5, 2) / combinations(8, 2) * combinations(7, 4) / combinations(12, 4)\n",
        "w2 = combinations(3, 2) / combinations(8, 2) * combinations(5, 4) / combinations(12, 4)\n",
        "w3 = (combinations(5, 1)*combinations(3, 1)) / combinations(8, 2) * (combinations(7, 1) * combinations(5, 3)) / combinations(12, 4)\n",
        "w = w1+w2+w3\n",
        "w"
      ],
      "id": "efDncnZDcI4t",
      "execution_count": null,
      "outputs": [
        {
          "output_type": "execute_result",
          "data": {
            "text/plain": [
              "0.1020923520923521"
            ]
          },
          "metadata": {
            "tags": []
          },
          "execution_count": 54
        }
      ]
    },
    {
      "cell_type": "markdown",
      "metadata": {
        "id": "SGstepMWSxL6"
      },
      "source": [
        "3. На соревновании по биатлону один из трех спортсменов стреляет и попадает в мишень. Вероятность попадания для первого спортсмена равна 0.9, для второго — 0.8, для третьего — 0.6. Найти вероятность того, что выстрел произведен: a). первым спортсменом б). вторым спортсменом в). третьим спортсменом."
      ],
      "id": "SGstepMWSxL6"
    },
    {
      "cell_type": "code",
      "metadata": {
        "colab": {
          "base_uri": "https://localhost:8080/"
        },
        "id": "Nbup1NILSzH7",
        "outputId": "9cda481a-72ed-4c98-af83-583685158b5f"
      },
      "source": [
        "# вероятность того, что выстрел произведен: a). первым спортсменом\n",
        "W4 = (1/3) * 0.9 / ((1/3) * 0.9 + (1/3) * 0.8 + (1/3) * 0.6)\n",
        "W4"
      ],
      "id": "Nbup1NILSzH7",
      "execution_count": null,
      "outputs": [
        {
          "output_type": "execute_result",
          "data": {
            "text/plain": [
              "0.391304347826087"
            ]
          },
          "metadata": {
            "tags": []
          },
          "execution_count": 55
        }
      ]
    },
    {
      "cell_type": "code",
      "metadata": {
        "colab": {
          "base_uri": "https://localhost:8080/"
        },
        "id": "H3BpM6_ZfIQw",
        "outputId": "ce7464d9-4ff2-41f6-9b36-6ccdea8a186c"
      },
      "source": [
        "# вероятность того, что выстрел произведен: a). вторым спортсменом\n",
        "W5 = (1/3) * 0.8 / ((1/3) * 0.9 + (1/3) * 0.8 + (1/3) * 0.6)\n",
        "W5"
      ],
      "id": "H3BpM6_ZfIQw",
      "execution_count": null,
      "outputs": [
        {
          "output_type": "execute_result",
          "data": {
            "text/plain": [
              "0.3478260869565218"
            ]
          },
          "metadata": {
            "tags": []
          },
          "execution_count": 56
        }
      ]
    },
    {
      "cell_type": "code",
      "metadata": {
        "colab": {
          "base_uri": "https://localhost:8080/"
        },
        "id": "43YxpLlNfIit",
        "outputId": "1f09aeee-74ab-490b-fd03-f0452a438d5f"
      },
      "source": [
        "# вероятность того, что выстрел произведен: a). третьим спортсменом\n",
        "W6 = (1/3) * 0.6 / ((1/3) * 0.9 + (1/3) * 0.8 + (1/3) * 0.6)\n",
        "W6"
      ],
      "id": "43YxpLlNfIit",
      "execution_count": null,
      "outputs": [
        {
          "output_type": "execute_result",
          "data": {
            "text/plain": [
              "0.2608695652173913"
            ]
          },
          "metadata": {
            "tags": []
          },
          "execution_count": 57
        }
      ]
    },
    {
      "cell_type": "markdown",
      "metadata": {
        "id": "viMHVAxAS6ev"
      },
      "source": [
        "4. В университет на факультеты A и B поступило равное количество студентов, а на факультет C студентов поступило столько же, сколько на A и B вместе. Вероятность того, что студент факультета A сдаст первую сессию, равна 0.8. Для студента факультета B эта вероятность равна 0.7, а для студента факультета C - 0.9. Студент сдал первую сессию. Какова вероятность, что он учится: a). на факультете A б). на факультете B в). на факультете C?"
      ],
      "id": "viMHVAxAS6ev"
    },
    {
      "cell_type": "code",
      "metadata": {
        "colab": {
          "base_uri": "https://localhost:8080/"
        },
        "id": "fiaz8AIsS7Qq",
        "outputId": "779a4c8c-542a-43fb-80d5-753c92b7be76"
      },
      "source": [
        "# вероятность, что он учится: a). на факультете A\n",
        "W7 = (1/4) * 0.8 / ((1/4) * 0.8 + (1/4) * 0.7 + (2/4) * 0.9)\n",
        "W7"
      ],
      "id": "fiaz8AIsS7Qq",
      "execution_count": null,
      "outputs": [
        {
          "output_type": "execute_result",
          "data": {
            "text/plain": [
              "0.24242424242424246"
            ]
          },
          "metadata": {
            "tags": []
          },
          "execution_count": 62
        }
      ]
    },
    {
      "cell_type": "code",
      "metadata": {
        "colab": {
          "base_uri": "https://localhost:8080/"
        },
        "id": "SyhO4rjug5yy",
        "outputId": "9f2bee92-d582-4152-89ab-793324cbe346"
      },
      "source": [
        "# вероятность, что он учится: a). на факультете B\n",
        "W8 = (1/4) * 0.7 / ((1/4) * 0.8 + (1/4) * 0.7 + (2/4) * 0.9)\n",
        "W8"
      ],
      "id": "SyhO4rjug5yy",
      "execution_count": null,
      "outputs": [
        {
          "output_type": "execute_result",
          "data": {
            "text/plain": [
              "0.21212121212121213"
            ]
          },
          "metadata": {
            "tags": []
          },
          "execution_count": 61
        }
      ]
    },
    {
      "cell_type": "code",
      "metadata": {
        "colab": {
          "base_uri": "https://localhost:8080/"
        },
        "id": "QpmbcNcxg531",
        "outputId": "af5946fe-a2b0-4752-fb3b-f82434f8bcd6"
      },
      "source": [
        "# вероятность, что он учится: a). на факультете B\n",
        "W9 = (2/4) * 0.9 / ((1/4) * 0.8 + (1/4) * 0.7 + (2/4) * 0.9)\n",
        "W9"
      ],
      "id": "QpmbcNcxg531",
      "execution_count": null,
      "outputs": [
        {
          "output_type": "execute_result",
          "data": {
            "text/plain": [
              "0.5454545454545455"
            ]
          },
          "metadata": {
            "tags": []
          },
          "execution_count": 60
        }
      ]
    },
    {
      "cell_type": "markdown",
      "metadata": {
        "id": "wnnqpLowS7i5"
      },
      "source": [
        "5. Устройство состоит из трех деталей. Для первой детали вероятность выйти из строя в первый месяц равна 0.1, для второй - 0.2, для третьей - 0.25. Какова вероятность того, что в первый месяц выйдут из строя: а). все детали б). только две детали в). хотя бы одна деталь г). от одной до двух деталей?"
      ],
      "id": "wnnqpLowS7i5"
    },
    {
      "cell_type": "code",
      "metadata": {
        "colab": {
          "base_uri": "https://localhost:8080/"
        },
        "id": "L980yG8JS9ZK",
        "outputId": "bb5c3bbd-4cec-481e-fdf6-aee418faef65"
      },
      "source": [
        "W10 = 0.1 * 0.2 * 0.25\n",
        "W10"
      ],
      "id": "L980yG8JS9ZK",
      "execution_count": null,
      "outputs": [
        {
          "output_type": "execute_result",
          "data": {
            "text/plain": [
              "0.005000000000000001"
            ]
          },
          "metadata": {
            "tags": []
          },
          "execution_count": 64
        }
      ]
    },
    {
      "cell_type": "code",
      "metadata": {
        "id": "xUSaSZk9idz-",
        "colab": {
          "base_uri": "https://localhost:8080/"
        },
        "outputId": "c56eb1c7-31f2-498e-ad29-9ee4a5c8e353"
      },
      "source": [
        "W11 = 0.1 * 0.2 + 0.1 * 0.25 + 0.2 * 0.25\n",
        "W11"
      ],
      "id": "xUSaSZk9idz-",
      "execution_count": null,
      "outputs": [
        {
          "output_type": "execute_result",
          "data": {
            "text/plain": [
              "0.095"
            ]
          },
          "metadata": {
            "tags": []
          },
          "execution_count": 1
        }
      ]
    },
    {
      "cell_type": "code",
      "metadata": {
        "colab": {
          "base_uri": "https://localhost:8080/"
        },
        "id": "1vI0bxi_C7Fl",
        "outputId": "5a876066-555a-405e-8ef7-fc8d7770ca70"
      },
      "source": [
        "W12 = 1/3*0.1 + 1/3*0.2 + 1/3*0.25\n",
        "W12"
      ],
      "id": "1vI0bxi_C7Fl",
      "execution_count": null,
      "outputs": [
        {
          "output_type": "execute_result",
          "data": {
            "text/plain": [
              "0.18333333333333335"
            ]
          },
          "metadata": {
            "tags": []
          },
          "execution_count": 3
        }
      ]
    },
    {
      "cell_type": "code",
      "metadata": {
        "colab": {
          "base_uri": "https://localhost:8080/"
        },
        "id": "fjrnBrWoDFkc",
        "outputId": "4a23fa14-86a7-4d64-c630-446904ceb780"
      },
      "source": [
        "W13 = W11 + W12\n",
        "W13"
      ],
      "id": "fjrnBrWoDFkc",
      "execution_count": null,
      "outputs": [
        {
          "output_type": "execute_result",
          "data": {
            "text/plain": [
              "0.2783333333333333"
            ]
          },
          "metadata": {
            "tags": []
          },
          "execution_count": 4
        }
      ]
    },
    {
      "cell_type": "code",
      "metadata": {
        "id": "WkyQzVzyDYPD"
      },
      "source": [
        ""
      ],
      "id": "WkyQzVzyDYPD",
      "execution_count": null,
      "outputs": []
    }
  ]
}